{
 "cells": [
  {
   "cell_type": "markdown",
   "metadata": {},
   "source": [
    "> El siguiente notebook contiene las instrucciones para descargar los datos necesarios para el desarrollo del proyecto provenientes de Kaggle. Las instrucciones son validas para ser usadas en Google Colab.\n"
   ]
  },
  {
   "cell_type": "code",
   "execution_count": null,
   "metadata": {},
   "outputs": [],
   "source": [
    "!pip install kaggle # Instalando Kaggle CLI"
   ]
  },
  {
   "cell_type": "markdown",
   "metadata": {},
   "source": [
    "> Antes de realizar el siguiente paso es necesario obtener el API KEY de la cuenta con la competición ya asignada a la cuenta proveedora del API KEY. [Competición](https://www.kaggle.com/competitions/online-sales)\n",
    "\n",
    "> Para descargarlo sera necesario seguir los siguientes pasos:\n",
    ">\n",
    "> > 1.  Haz clic en tu avatar en la esquina superior derecha y selecciona \"Account\".\n",
    "> > 2.  Desplázate hacia abajo hasta la sección \"API\" y haz clic en \"Create New API Token\".\n",
    "> > 3.  Se descargará un archivo llamado kaggle.json. Este archivo contiene tu token de API.\n",
    "\n",
    "> También es posible usar el kaggle.json que se encuentra en la raíz del repositorio Github el cual contiene un API KEY funcional.\n"
   ]
  },
  {
   "cell_type": "code",
   "execution_count": 2,
   "metadata": {},
   "outputs": [
    {
     "ename": "ModuleNotFoundError",
     "evalue": "No module named 'google.colab'",
     "output_type": "error",
     "traceback": [
      "\u001b[1;31m---------------------------------------------------------------------------\u001b[0m",
      "\u001b[1;31mModuleNotFoundError\u001b[0m                       Traceback (most recent call last)",
      "\u001b[1;32md:\\UNIVERSIDADES\\OneDrive\\U de A\\2023-II\\IIA\\Entregas\\Entregas\\00 - downloading_data.ipynb Celda 4\u001b[0m line \u001b[0;36m1\n\u001b[1;32m----> <a href='vscode-notebook-cell:/d%3A/UNIVERSIDADES/OneDrive/U%20de%20A/2023-II/IIA/Entregas/Entregas/00%20-%20downloading_data.ipynb#W1sZmlsZQ%3D%3D?line=0'>1</a>\u001b[0m \u001b[39mfrom\u001b[39;00m \u001b[39mgoogle\u001b[39;00m\u001b[39m.\u001b[39;00m\u001b[39mcolab\u001b[39;00m \u001b[39mimport\u001b[39;00m files\n\u001b[0;32m      <a href='vscode-notebook-cell:/d%3A/UNIVERSIDADES/OneDrive/U%20de%20A/2023-II/IIA/Entregas/Entregas/00%20-%20downloading_data.ipynb#W1sZmlsZQ%3D%3D?line=2'>3</a>\u001b[0m uploaded \u001b[39m=\u001b[39m files\u001b[39m.\u001b[39mupload()\n",
      "\u001b[1;31mModuleNotFoundError\u001b[0m: No module named 'google.colab'"
     ]
    }
   ],
   "source": [
    "from google.colab import files\n",
    "\n",
    "uploaded = files.upload()  # Cargar API KEY"
   ]
  },
  {
   "cell_type": "code",
   "execution_count": null,
   "metadata": {},
   "outputs": [],
   "source": [
    "# Moviendo API KEY a la carpeta de Kaggle\n",
    "!mkdir -p ~/.kaggle\n",
    "!mv kaggle.json ~/.kaggle/\n",
    "!chmod 600 ~/.kaggle/kaggle.json"
   ]
  },
  {
   "cell_type": "code",
   "execution_count": null,
   "metadata": {},
   "outputs": [],
   "source": [
    "!kaggle competitions download -c online-sales -p /content # Descargando contenido"
   ]
  },
  {
   "cell_type": "code",
   "execution_count": null,
   "metadata": {},
   "outputs": [],
   "source": [
    "import zipfile\n",
    "import os\n",
    "\n",
    "# Descomprimiendo los datos\n",
    "with zipfile.ZipFile(\"/content/online-sales.zip\", \"r\") as zip_ref:\n",
    "    zip_ref.extractall(\"/content\")"
   ]
  }
 ],
 "metadata": {
  "kernelspec": {
   "display_name": "Python 3",
   "language": "python",
   "name": "python3"
  },
  "language_info": {
   "codemirror_mode": {
    "name": "ipython",
    "version": 3
   },
   "file_extension": ".py",
   "mimetype": "text/x-python",
   "name": "python",
   "nbconvert_exporter": "python",
   "pygments_lexer": "ipython3",
   "version": "3.9.13"
  }
 },
 "nbformat": 4,
 "nbformat_minor": 2
}
